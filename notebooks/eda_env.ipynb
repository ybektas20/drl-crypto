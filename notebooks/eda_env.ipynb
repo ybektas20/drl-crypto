{
 "cells": [
  {
   "cell_type": "code",
   "execution_count": 2,
   "metadata": {},
   "outputs": [
    {
     "ename": "KeyboardInterrupt",
     "evalue": "",
     "output_type": "error",
     "traceback": [
      "\u001b[31m---------------------------------------------------------------------------\u001b[39m",
      "\u001b[31mKeyboardInterrupt\u001b[39m                         Traceback (most recent call last)",
      "\u001b[36mCell\u001b[39m\u001b[36m \u001b[39m\u001b[32mIn[2]\u001b[39m\u001b[32m, line 17\u001b[39m\n\u001b[32m     15\u001b[39m         X.append(df)\n\u001b[32m     16\u001b[39m         keys.append(file.split(\u001b[33m\"\u001b[39m\u001b[33m-\u001b[39m\u001b[33m\"\u001b[39m)[\u001b[32m0\u001b[39m])\n\u001b[32m---> \u001b[39m\u001b[32m17\u001b[39m X = \u001b[43mpd\u001b[49m\u001b[43m.\u001b[49m\u001b[43mconcat\u001b[49m\u001b[43m(\u001b[49m\u001b[43mX\u001b[49m\u001b[43m,\u001b[49m\u001b[43m \u001b[49m\u001b[43maxis\u001b[49m\u001b[43m=\u001b[49m\u001b[32;43m1\u001b[39;49m\u001b[43m,\u001b[49m\u001b[43mkeys\u001b[49m\u001b[43m=\u001b[49m\u001b[43mkeys\u001b[49m\u001b[43m)\u001b[49m\u001b[43m.\u001b[49m\u001b[43msort_index\u001b[49m\u001b[43m(\u001b[49m\u001b[43m)\u001b[49m\u001b[43m.\u001b[49m\u001b[43mffill\u001b[49m\u001b[43m(\u001b[49m\u001b[43m)\u001b[49m\u001b[43m.\u001b[49m\u001b[43mreplace\u001b[49m\u001b[43m(\u001b[49m\u001b[43m[\u001b[49m\u001b[43mnp\u001b[49m\u001b[43m.\u001b[49m\u001b[43minf\u001b[49m\u001b[43m,\u001b[49m\u001b[43m-\u001b[49m\u001b[43mnp\u001b[49m\u001b[43m.\u001b[49m\u001b[43minf\u001b[49m\u001b[43m]\u001b[49m\u001b[43m,\u001b[49m\u001b[43mnp\u001b[49m\u001b[43m.\u001b[49m\u001b[43mnan\u001b[49m\u001b[43m)\u001b[49m.dropna()\n\u001b[32m     18\u001b[39m bids = X.xs(\u001b[33m\"\u001b[39m\u001b[33mbest_bid\u001b[39m\u001b[33m\"\u001b[39m, level=\u001b[32m1\u001b[39m, axis=\u001b[32m1\u001b[39m)\n\u001b[32m     19\u001b[39m asks = X.xs(\u001b[33m\"\u001b[39m\u001b[33mbest_ask\u001b[39m\u001b[33m\"\u001b[39m, level=\u001b[32m1\u001b[39m, axis=\u001b[32m1\u001b[39m)\n",
      "\u001b[36mFile \u001b[39m\u001b[32m~/Envs/default/lib/python3.13/site-packages/pandas/core/generic.py:8118\u001b[39m, in \u001b[36mNDFrame.replace\u001b[39m\u001b[34m(self, to_replace, value, inplace, limit, regex, method)\u001b[39m\n\u001b[32m   8113\u001b[39m     \u001b[38;5;28;01mif\u001b[39;00m \u001b[38;5;28mlen\u001b[39m(to_replace) != \u001b[38;5;28mlen\u001b[39m(value):\n\u001b[32m   8114\u001b[39m         \u001b[38;5;28;01mraise\u001b[39;00m \u001b[38;5;167;01mValueError\u001b[39;00m(\n\u001b[32m   8115\u001b[39m             \u001b[33mf\u001b[39m\u001b[33m\"\u001b[39m\u001b[33mReplacement lists must match in length. \u001b[39m\u001b[33m\"\u001b[39m\n\u001b[32m   8116\u001b[39m             \u001b[33mf\u001b[39m\u001b[33m\"\u001b[39m\u001b[33mExpecting \u001b[39m\u001b[38;5;132;01m{\u001b[39;00m\u001b[38;5;28mlen\u001b[39m(to_replace)\u001b[38;5;132;01m}\u001b[39;00m\u001b[33m got \u001b[39m\u001b[38;5;132;01m{\u001b[39;00m\u001b[38;5;28mlen\u001b[39m(value)\u001b[38;5;132;01m}\u001b[39;00m\u001b[33m \u001b[39m\u001b[33m\"\u001b[39m\n\u001b[32m   8117\u001b[39m         )\n\u001b[32m-> \u001b[39m\u001b[32m8118\u001b[39m     new_data = \u001b[38;5;28;43mself\u001b[39;49m\u001b[43m.\u001b[49m\u001b[43m_mgr\u001b[49m\u001b[43m.\u001b[49m\u001b[43mreplace_list\u001b[49m\u001b[43m(\u001b[49m\n\u001b[32m   8119\u001b[39m \u001b[43m        \u001b[49m\u001b[43msrc_list\u001b[49m\u001b[43m=\u001b[49m\u001b[43mto_replace\u001b[49m\u001b[43m,\u001b[49m\n\u001b[32m   8120\u001b[39m \u001b[43m        \u001b[49m\u001b[43mdest_list\u001b[49m\u001b[43m=\u001b[49m\u001b[43mvalue\u001b[49m\u001b[43m,\u001b[49m\n\u001b[32m   8121\u001b[39m \u001b[43m        \u001b[49m\u001b[43minplace\u001b[49m\u001b[43m=\u001b[49m\u001b[43minplace\u001b[49m\u001b[43m,\u001b[49m\n\u001b[32m   8122\u001b[39m \u001b[43m        \u001b[49m\u001b[43mregex\u001b[49m\u001b[43m=\u001b[49m\u001b[43mregex\u001b[49m\u001b[43m,\u001b[49m\n\u001b[32m   8123\u001b[39m \u001b[43m    \u001b[49m\u001b[43m)\u001b[49m\n\u001b[32m   8125\u001b[39m \u001b[38;5;28;01melif\u001b[39;00m to_replace \u001b[38;5;129;01mis\u001b[39;00m \u001b[38;5;28;01mNone\u001b[39;00m:\n\u001b[32m   8126\u001b[39m     \u001b[38;5;28;01mif\u001b[39;00m \u001b[38;5;129;01mnot\u001b[39;00m (\n\u001b[32m   8127\u001b[39m         is_re_compilable(regex)\n\u001b[32m   8128\u001b[39m         \u001b[38;5;129;01mor\u001b[39;00m is_list_like(regex)\n\u001b[32m   8129\u001b[39m         \u001b[38;5;129;01mor\u001b[39;00m is_dict_like(regex)\n\u001b[32m   8130\u001b[39m     ):\n",
      "\u001b[36mFile \u001b[39m\u001b[32m~/Envs/default/lib/python3.13/site-packages/pandas/core/internals/base.py:278\u001b[39m, in \u001b[36mDataManager.replace_list\u001b[39m\u001b[34m(self, src_list, dest_list, inplace, regex)\u001b[39m\n\u001b[32m    275\u001b[39m \u001b[38;5;250m\u001b[39m\u001b[33;03m\"\"\"do a list replace\"\"\"\u001b[39;00m\n\u001b[32m    276\u001b[39m inplace = validate_bool_kwarg(inplace, \u001b[33m\"\u001b[39m\u001b[33minplace\u001b[39m\u001b[33m\"\u001b[39m)\n\u001b[32m--> \u001b[39m\u001b[32m278\u001b[39m bm = \u001b[38;5;28;43mself\u001b[39;49m\u001b[43m.\u001b[49m\u001b[43mapply_with_block\u001b[49m\u001b[43m(\u001b[49m\n\u001b[32m    279\u001b[39m \u001b[43m    \u001b[49m\u001b[33;43m\"\u001b[39;49m\u001b[33;43mreplace_list\u001b[39;49m\u001b[33;43m\"\u001b[39;49m\u001b[43m,\u001b[49m\n\u001b[32m    280\u001b[39m \u001b[43m    \u001b[49m\u001b[43msrc_list\u001b[49m\u001b[43m=\u001b[49m\u001b[43msrc_list\u001b[49m\u001b[43m,\u001b[49m\n\u001b[32m    281\u001b[39m \u001b[43m    \u001b[49m\u001b[43mdest_list\u001b[49m\u001b[43m=\u001b[49m\u001b[43mdest_list\u001b[49m\u001b[43m,\u001b[49m\n\u001b[32m    282\u001b[39m \u001b[43m    \u001b[49m\u001b[43minplace\u001b[49m\u001b[43m=\u001b[49m\u001b[43minplace\u001b[49m\u001b[43m,\u001b[49m\n\u001b[32m    283\u001b[39m \u001b[43m    \u001b[49m\u001b[43mregex\u001b[49m\u001b[43m=\u001b[49m\u001b[43mregex\u001b[49m\u001b[43m,\u001b[49m\n\u001b[32m    284\u001b[39m \u001b[43m    \u001b[49m\u001b[43musing_cow\u001b[49m\u001b[43m=\u001b[49m\u001b[43musing_copy_on_write\u001b[49m\u001b[43m(\u001b[49m\u001b[43m)\u001b[49m\u001b[43m,\u001b[49m\n\u001b[32m    285\u001b[39m \u001b[43m    \u001b[49m\u001b[43malready_warned\u001b[49m\u001b[43m=\u001b[49m\u001b[43m_AlreadyWarned\u001b[49m\u001b[43m(\u001b[49m\u001b[43m)\u001b[49m\u001b[43m,\u001b[49m\n\u001b[32m    286\u001b[39m \u001b[43m\u001b[49m\u001b[43m)\u001b[49m\n\u001b[32m    287\u001b[39m bm._consolidate_inplace()\n\u001b[32m    288\u001b[39m \u001b[38;5;28;01mreturn\u001b[39;00m bm\n",
      "\u001b[36mFile \u001b[39m\u001b[32m~/Envs/default/lib/python3.13/site-packages/pandas/core/internals/managers.py:363\u001b[39m, in \u001b[36mBaseBlockManager.apply\u001b[39m\u001b[34m(self, f, align_keys, **kwargs)\u001b[39m\n\u001b[32m    361\u001b[39m         applied = b.apply(f, **kwargs)\n\u001b[32m    362\u001b[39m     \u001b[38;5;28;01melse\u001b[39;00m:\n\u001b[32m--> \u001b[39m\u001b[32m363\u001b[39m         applied = \u001b[38;5;28;43mgetattr\u001b[39;49m\u001b[43m(\u001b[49m\u001b[43mb\u001b[49m\u001b[43m,\u001b[49m\u001b[43m \u001b[49m\u001b[43mf\u001b[49m\u001b[43m)\u001b[49m\u001b[43m(\u001b[49m\u001b[43m*\u001b[49m\u001b[43m*\u001b[49m\u001b[43mkwargs\u001b[49m\u001b[43m)\u001b[49m\n\u001b[32m    364\u001b[39m     result_blocks = extend_blocks(applied, result_blocks)\n\u001b[32m    366\u001b[39m out = \u001b[38;5;28mtype\u001b[39m(\u001b[38;5;28mself\u001b[39m).from_blocks(result_blocks, \u001b[38;5;28mself\u001b[39m.axes)\n",
      "\u001b[36mFile \u001b[39m\u001b[32m~/Envs/default/lib/python3.13/site-packages/pandas/core/internals/blocks.py:1178\u001b[39m, in \u001b[36mBlock.replace_list\u001b[39m\u001b[34m(self, src_list, dest_list, inplace, regex, using_cow, already_warned)\u001b[39m\n\u001b[32m   1173\u001b[39m     m = mib[blk_num : blk_num + \u001b[32m1\u001b[39m]\n\u001b[32m   1175\u001b[39m \u001b[38;5;66;03m# error: Argument \"mask\" to \"_replace_coerce\" of \"Block\" has\u001b[39;00m\n\u001b[32m   1176\u001b[39m \u001b[38;5;66;03m# incompatible type \"Union[ExtensionArray, ndarray[Any, Any], bool]\";\u001b[39;00m\n\u001b[32m   1177\u001b[39m \u001b[38;5;66;03m# expected \"ndarray[Any, dtype[bool_]]\"\u001b[39;00m\n\u001b[32m-> \u001b[39m\u001b[32m1178\u001b[39m result = \u001b[43mblk\u001b[49m\u001b[43m.\u001b[49m\u001b[43m_replace_coerce\u001b[49m\u001b[43m(\u001b[49m\n\u001b[32m   1179\u001b[39m \u001b[43m    \u001b[49m\u001b[43mto_replace\u001b[49m\u001b[43m=\u001b[49m\u001b[43msrc\u001b[49m\u001b[43m,\u001b[49m\n\u001b[32m   1180\u001b[39m \u001b[43m    \u001b[49m\u001b[43mvalue\u001b[49m\u001b[43m=\u001b[49m\u001b[43mdest\u001b[49m\u001b[43m,\u001b[49m\n\u001b[32m   1181\u001b[39m \u001b[43m    \u001b[49m\u001b[43mmask\u001b[49m\u001b[43m=\u001b[49m\u001b[43mm\u001b[49m\u001b[43m,\u001b[49m\n\u001b[32m   1182\u001b[39m \u001b[43m    \u001b[49m\u001b[43minplace\u001b[49m\u001b[43m=\u001b[49m\u001b[43minplace\u001b[49m\u001b[43m,\u001b[49m\n\u001b[32m   1183\u001b[39m \u001b[43m    \u001b[49m\u001b[43mregex\u001b[49m\u001b[43m=\u001b[49m\u001b[43mregex\u001b[49m\u001b[43m,\u001b[49m\n\u001b[32m   1184\u001b[39m \u001b[43m    \u001b[49m\u001b[43musing_cow\u001b[49m\u001b[43m=\u001b[49m\u001b[43musing_cow\u001b[49m\u001b[43m,\u001b[49m\n\u001b[32m   1185\u001b[39m \u001b[43m    \u001b[49m\u001b[43mconvert_string\u001b[49m\u001b[43m=\u001b[49m\u001b[43mconvert_string\u001b[49m\u001b[43m,\u001b[49m\n\u001b[32m   1186\u001b[39m \u001b[43m\u001b[49m\u001b[43m)\u001b[49m\n\u001b[32m   1188\u001b[39m \u001b[38;5;28;01mif\u001b[39;00m using_cow \u001b[38;5;129;01mand\u001b[39;00m i != src_len:\n\u001b[32m   1189\u001b[39m     \u001b[38;5;66;03m# This is ugly, but we have to get rid of intermediate refs\u001b[39;00m\n\u001b[32m   1190\u001b[39m     \u001b[38;5;66;03m# that did not go out of scope yet, otherwise we will trigger\u001b[39;00m\n\u001b[32m   1191\u001b[39m     \u001b[38;5;66;03m# many unnecessary copies\u001b[39;00m\n\u001b[32m   1192\u001b[39m     \u001b[38;5;28;01mfor\u001b[39;00m b \u001b[38;5;129;01min\u001b[39;00m result:\n",
      "\u001b[36mFile \u001b[39m\u001b[32m~/Envs/default/lib/python3.13/site-packages/pandas/core/internals/blocks.py:1288\u001b[39m, in \u001b[36mBlock._replace_coerce\u001b[39m\u001b[34m(self, to_replace, value, mask, inplace, regex, using_cow, convert_string)\u001b[39m\n\u001b[32m   1286\u001b[39m         \u001b[38;5;28;01mreturn\u001b[39;00m [\u001b[38;5;28mself\u001b[39m.copy(deep=\u001b[38;5;28;01mFalse\u001b[39;00m)]\n\u001b[32m   1287\u001b[39m     \u001b[38;5;28;01mreturn\u001b[39;00m [\u001b[38;5;28mself\u001b[39m] \u001b[38;5;28;01mif\u001b[39;00m inplace \u001b[38;5;28;01melse\u001b[39;00m [\u001b[38;5;28mself\u001b[39m.copy()]\n\u001b[32m-> \u001b[39m\u001b[32m1288\u001b[39m \u001b[38;5;28;01mreturn\u001b[39;00m \u001b[38;5;28;43mself\u001b[39;49m\u001b[43m.\u001b[49m\u001b[43mreplace\u001b[49m\u001b[43m(\u001b[49m\n\u001b[32m   1289\u001b[39m \u001b[43m    \u001b[49m\u001b[43mto_replace\u001b[49m\u001b[43m=\u001b[49m\u001b[43mto_replace\u001b[49m\u001b[43m,\u001b[49m\n\u001b[32m   1290\u001b[39m \u001b[43m    \u001b[49m\u001b[43mvalue\u001b[49m\u001b[43m=\u001b[49m\u001b[43mvalue\u001b[49m\u001b[43m,\u001b[49m\n\u001b[32m   1291\u001b[39m \u001b[43m    \u001b[49m\u001b[43minplace\u001b[49m\u001b[43m=\u001b[49m\u001b[43minplace\u001b[49m\u001b[43m,\u001b[49m\n\u001b[32m   1292\u001b[39m \u001b[43m    \u001b[49m\u001b[43mmask\u001b[49m\u001b[43m=\u001b[49m\u001b[43mmask\u001b[49m\u001b[43m,\u001b[49m\n\u001b[32m   1293\u001b[39m \u001b[43m    \u001b[49m\u001b[43musing_cow\u001b[49m\u001b[43m=\u001b[49m\u001b[43musing_cow\u001b[49m\u001b[43m,\u001b[49m\n\u001b[32m   1294\u001b[39m \u001b[43m    \u001b[49m\u001b[43mconvert_string\u001b[49m\u001b[43m=\u001b[49m\u001b[43mconvert_string\u001b[49m\u001b[43m,\u001b[49m\n\u001b[32m   1295\u001b[39m \u001b[43m\u001b[49m\u001b[43m)\u001b[49m\n",
      "\u001b[36mFile \u001b[39m\u001b[32m~/Envs/default/lib/python3.13/site-packages/pandas/core/internals/blocks.py:902\u001b[39m, in \u001b[36mBlock.replace\u001b[39m\u001b[34m(self, to_replace, value, inplace, mask, using_cow, already_warned, convert_string)\u001b[39m\n\u001b[32m    900\u001b[39m         \u001b[38;5;28;01mreturn\u001b[39;00m [\u001b[38;5;28mself\u001b[39m.copy(deep=\u001b[38;5;28;01mFalse\u001b[39;00m)]\n\u001b[32m    901\u001b[39m     \u001b[38;5;28;01melse\u001b[39;00m:\n\u001b[32m--> \u001b[39m\u001b[32m902\u001b[39m         \u001b[38;5;28;01mreturn\u001b[39;00m [\u001b[38;5;28mself\u001b[39m] \u001b[38;5;28;01mif\u001b[39;00m inplace \u001b[38;5;28;01melse\u001b[39;00m [\u001b[38;5;28;43mself\u001b[39;49m\u001b[43m.\u001b[49m\u001b[43mcopy\u001b[49m\u001b[43m(\u001b[49m\u001b[43m)\u001b[49m]\n\u001b[32m    904\u001b[39m \u001b[38;5;28;01melif\u001b[39;00m \u001b[38;5;28mself\u001b[39m._can_hold_element(value) \u001b[38;5;129;01mor\u001b[39;00m (\u001b[38;5;28mself\u001b[39m.dtype == \u001b[33m\"\u001b[39m\u001b[33mstring\u001b[39m\u001b[33m\"\u001b[39m \u001b[38;5;129;01mand\u001b[39;00m is_re(value)):\n\u001b[32m    905\u001b[39m     \u001b[38;5;66;03m# TODO(CoW): Maybe split here as well into columns where mask has True\u001b[39;00m\n\u001b[32m    906\u001b[39m     \u001b[38;5;66;03m# and rest?\u001b[39;00m\n\u001b[32m    907\u001b[39m     blk = \u001b[38;5;28mself\u001b[39m._maybe_copy(using_cow, inplace)\n",
      "\u001b[36mFile \u001b[39m\u001b[32m~/Envs/default/lib/python3.13/site-packages/pandas/core/internals/blocks.py:822\u001b[39m, in \u001b[36mBlock.copy\u001b[39m\u001b[34m(self, deep)\u001b[39m\n\u001b[32m    820\u001b[39m refs: BlockValuesRefs | \u001b[38;5;28;01mNone\u001b[39;00m\n\u001b[32m    821\u001b[39m \u001b[38;5;28;01mif\u001b[39;00m deep:\n\u001b[32m--> \u001b[39m\u001b[32m822\u001b[39m     values = \u001b[43mvalues\u001b[49m\u001b[43m.\u001b[49m\u001b[43mcopy\u001b[49m\u001b[43m(\u001b[49m\u001b[43m)\u001b[49m\n\u001b[32m    823\u001b[39m     refs = \u001b[38;5;28;01mNone\u001b[39;00m\n\u001b[32m    824\u001b[39m \u001b[38;5;28;01melse\u001b[39;00m:\n",
      "\u001b[31mKeyboardInterrupt\u001b[39m: "
     ]
    }
   ],
   "source": [
    "import pandas as pd\n",
    "import numpy as np\n",
    "import os\n",
    "#from envs.portfolio_env import BinancePortfolioEnv\n",
    "\n",
    "\n",
    "path = \"/Users/yusuf.bektas/Quant/drl-crypto/data/features/600s\"\n",
    "X = []\n",
    "keys = []\n",
    "for file in os.listdir(path):\n",
    "    if file.endswith(\".parquet\"):\n",
    "        df = pd.read_parquet(os.path.join(path, file))\n",
    "        df = df.dropna().drop(columns=[\"price_last\",\"buy_qty\",\"sell_qty\"])\n",
    "        df = df.set_index(\"ts\")\n",
    "        X.append(df)\n",
    "        keys.append(file.split(\"-\")[0])\n",
    "X = pd.concat(X, axis=1,keys=keys).sort_index().ffill().replace([np.inf,-np.inf],np.nan).dropna()\n",
    "bids = X.xs(\"best_bid\", level=1, axis=1)\n",
    "asks = X.xs(\"best_ask\", level=1, axis=1)\n",
    "X = X.drop([\"best_bid\",\"best_ask\"], axis=1, level=1)\n",
    "print(\"X \")\n",
    "print(X.info())\n",
    "\n",
    "print(\"Asks\")\n",
    "print(asks.info())\n",
    "\n",
    "print(\"Bids\")\n",
    "print(bids.info())\n",
    "\n",
    "\n"
   ]
  },
  {
   "cell_type": "code",
   "execution_count": null,
   "metadata": {},
   "outputs": [],
   "source": []
  },
  {
   "cell_type": "code",
   "execution_count": null,
   "metadata": {},
   "outputs": [
    {
     "ename": "ValueError",
     "evalue": "could not broadcast input array from shape (2438155,15) into shape (2438155,17)",
     "output_type": "error",
     "traceback": [
      "\u001b[31m---------------------------------------------------------------------------\u001b[39m",
      "\u001b[31mValueError\u001b[39m                                Traceback (most recent call last)",
      "\u001b[36mCell\u001b[39m\u001b[36m \u001b[39m\u001b[32mIn[9]\u001b[39m\u001b[32m, line 9\u001b[39m\n\u001b[32m      6\u001b[39m cube = np.empty((T, A, F), dtype=np.float32)\n\u001b[32m      8\u001b[39m \u001b[38;5;28;01mfor\u001b[39;00m a, sym \u001b[38;5;129;01min\u001b[39;00m \u001b[38;5;28menumerate\u001b[39m(symbols):\n\u001b[32m----> \u001b[39m\u001b[32m9\u001b[39m     \u001b[43mcube\u001b[49m\u001b[43m[\u001b[49m\u001b[43m:\u001b[49m\u001b[43m,\u001b[49m\u001b[43m \u001b[49m\u001b[43ma\u001b[49m\u001b[43m,\u001b[49m\u001b[43m \u001b[49m\u001b[43m:\u001b[49m\u001b[43m]\u001b[49m = X[sym].values          \u001b[38;5;66;03m# (T, F)\u001b[39;00m\n\u001b[32m     12\u001b[39m \u001b[38;5;28;01mfrom\u001b[39;00m\u001b[38;5;250m \u001b[39m\u001b[34;01mdrl_crypto\u001b[39;00m\u001b[34;01m.\u001b[39;00m\u001b[34;01menvs\u001b[39;00m\u001b[34;01m.\u001b[39;00m\u001b[34;01mportfolio_env\u001b[39;00m\u001b[38;5;250m \u001b[39m\u001b[38;5;28;01mimport\u001b[39;00m BinancePortfolioEnv   \u001b[38;5;66;03m# use package name\u001b[39;00m\n\u001b[32m     14\u001b[39m env = BinancePortfolioEnv(\n\u001b[32m     15\u001b[39m     feature_cube=cube,\n\u001b[32m     16\u001b[39m     bids=bids.values.astype(np.float32),    \u001b[38;5;66;03m# (T, A)\u001b[39;00m\n\u001b[32m     17\u001b[39m     asks=asks.values.astype(np.float32),    \u001b[38;5;66;03m# (T, A)\u001b[39;00m\n\u001b[32m     18\u001b[39m     window=\u001b[32m50\u001b[39m\n\u001b[32m     19\u001b[39m )\n",
      "\u001b[31mValueError\u001b[39m: could not broadcast input array from shape (2438155,15) into shape (2438155,17)"
     ]
    }
   ],
   "source": [
    "# current MultiIndex:  level-0 = symbol, level-1 = feature name\n",
    "symbols   = bids.columns.tolist()          # ['BNBUSDT', 'XRPUSDT', ...]  (A = 7)\n",
    "features  = X.columns.levels[1].tolist()   # 15 fe>ature names              (F = 15)\n",
    "\n",
    "T, A, F = len(X), len(symbols), len(features)\n",
    "cube = np.empty((T, A, F), dtype=np.float32)\n",
    "\n",
    "for a, sym in enumerate(symbols):\n",
    "    cube[:, a, :] = X[sym].values          # (T, F)\n",
    "\n",
    "\n",
    "from drl_crypto.envs.portfolio_env import BinancePortfolioEnv   # use package name\n",
    "\n",
    "env = BinancePortfolioEnv(\n",
    "    feature_cube=cube,\n",
    "    bids=bids.values.astype(np.float32),    # (T, A)\n",
    "    asks=asks.values.astype(np.float32),    # (T, A)\n",
    "    window=50\n",
    ")\n",
    "\n",
    "obs, _ = env.reset(seed=0)\n",
    "print(\"obs OK?\", env.observation_space.contains(obs))   # → True\n",
    "\n",
    "act = env.action_space.sample()\n",
    "obs, r, term, trunc, _ = env.step(act)\n",
    "print(\"reward:\", r, \"terminated?\", term)                 # finite reward, False\n"
   ]
  },
  {
   "cell_type": "code",
   "execution_count": null,
   "metadata": {},
   "outputs": [],
   "source": []
  }
 ],
 "metadata": {
  "kernelspec": {
   "display_name": "default",
   "language": "python",
   "name": "python3"
  },
  "language_info": {
   "codemirror_mode": {
    "name": "ipython",
    "version": 3
   },
   "file_extension": ".py",
   "mimetype": "text/x-python",
   "name": "python",
   "nbconvert_exporter": "python",
   "pygments_lexer": "ipython3",
   "version": "3.13.5"
  }
 },
 "nbformat": 4,
 "nbformat_minor": 2
}
